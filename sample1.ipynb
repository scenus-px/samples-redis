{
 "cells": [
  {
   "cell_type": "markdown",
   "metadata": {},
   "source": [
    "##### Copyright (C) scenüs, 2023. (Ehsan Haghpanah; ehsan@scenus.com)"
   ]
  },
  {
   "cell_type": "code",
   "execution_count": 1,
   "metadata": {},
   "outputs": [],
   "source": [
    "import redis\n",
    "import json\n",
    "\n",
    "class Order(object):\n",
    "     def __init__(self, price: int, count: int, isin: str) -> None:\n",
    "          self.price = price\n",
    "          self.count = count\n",
    "          self.isin  = isin\n",
    "          pass\n",
    "     def to_dict(self) -> dict:\n",
    "          return {\n",
    "               'price' : self.price,\n",
    "               'count' : self.count,\n",
    "               'isin'  : self.isin,\n",
    "          }\n",
    "\n",
    "class RedisWrapper(object):\n",
    "     def __init__(self) -> None:\n",
    "          self.pool = redis.ConnectionPool(host= '172.16.51.115', port= 6379, db= 0)\n",
    "          self.connection = redis.Redis(connection_pool= self.pool, decode_responses= True)\n",
    "          self.channel = 'orders'\n",
    "          pass\n",
    "     \n",
    "     def send(self, data: dict) -> None:\n",
    "          self.connection.publish(self.channel, json.dumps(data))\n",
    "\n",
    "     def recv(self) -> dict:\n",
    "          p = self.connection.pubsub()\n",
    "          p.subscribe(self.channel)\n",
    "          return p.get_message()"
   ]
  },
  {
   "cell_type": "code",
   "execution_count": 4,
   "metadata": {},
   "outputs": [],
   "source": [
    "order = Order(10, 50, 'IRO1BAMA0001')\n",
    "rwrap = RedisWrapper()"
   ]
  },
  {
   "cell_type": "code",
   "execution_count": 6,
   "metadata": {},
   "outputs": [
    {
     "name": "stdout",
     "output_type": "stream",
     "text": [
      "None\n"
     ]
    }
   ],
   "source": [
    "x = rwrap.recv()\n",
    "print(x)"
   ]
  },
  {
   "cell_type": "code",
   "execution_count": 5,
   "metadata": {},
   "outputs": [],
   "source": [
    "rwrap.send(order.to_dict())"
   ]
  }
 ],
 "metadata": {
  "kernelspec": {
   "display_name": "Python 3",
   "language": "python",
   "name": "python3"
  },
  "language_info": {
   "codemirror_mode": {
    "name": "ipython",
    "version": 3
   },
   "file_extension": ".py",
   "mimetype": "text/x-python",
   "name": "python",
   "nbconvert_exporter": "python",
   "pygments_lexer": "ipython3",
   "version": "3.11.0"
  },
  "orig_nbformat": 4
 },
 "nbformat": 4,
 "nbformat_minor": 2
}
